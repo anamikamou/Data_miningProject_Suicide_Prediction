{
 "cells": [
  {
   "cell_type": "code",
   "execution_count": 1,
   "metadata": {},
   "outputs": [],
   "source": [
    "import pandas as panda\n",
    "import numpy as nump\n",
    "from sklearn.metrics import accuracy_score\n",
    "from sklearn.model_selection import train_test_split"
   ]
  },
  {
   "cell_type": "code",
   "execution_count": 2,
   "metadata": {},
   "outputs": [
    {
     "data": {
      "text/html": [
       "<div>\n",
       "<style scoped>\n",
       "    .dataframe tbody tr th:only-of-type {\n",
       "        vertical-align: middle;\n",
       "    }\n",
       "\n",
       "    .dataframe tbody tr th {\n",
       "        vertical-align: top;\n",
       "    }\n",
       "\n",
       "    .dataframe thead th {\n",
       "        text-align: right;\n",
       "    }\n",
       "</style>\n",
       "<table border=\"1\" class=\"dataframe\">\n",
       "  <thead>\n",
       "    <tr style=\"text-align: right;\">\n",
       "      <th></th>\n",
       "      <th>country</th>\n",
       "      <th>year</th>\n",
       "      <th>sex</th>\n",
       "      <th>age</th>\n",
       "      <th>suicides_no</th>\n",
       "      <th>population</th>\n",
       "    </tr>\n",
       "  </thead>\n",
       "  <tbody>\n",
       "    <tr>\n",
       "      <th>0</th>\n",
       "      <td>Albania</td>\n",
       "      <td>1985</td>\n",
       "      <td>female</td>\n",
       "      <td>15-24 years</td>\n",
       "      <td>NaN</td>\n",
       "      <td>277900.0</td>\n",
       "    </tr>\n",
       "    <tr>\n",
       "      <th>1</th>\n",
       "      <td>Albania</td>\n",
       "      <td>1985</td>\n",
       "      <td>female</td>\n",
       "      <td>25-34 years</td>\n",
       "      <td>NaN</td>\n",
       "      <td>246800.0</td>\n",
       "    </tr>\n",
       "    <tr>\n",
       "      <th>2</th>\n",
       "      <td>Albania</td>\n",
       "      <td>1985</td>\n",
       "      <td>female</td>\n",
       "      <td>35-54 years</td>\n",
       "      <td>NaN</td>\n",
       "      <td>267500.0</td>\n",
       "    </tr>\n",
       "    <tr>\n",
       "      <th>3</th>\n",
       "      <td>Albania</td>\n",
       "      <td>1985</td>\n",
       "      <td>female</td>\n",
       "      <td>5-14 years</td>\n",
       "      <td>NaN</td>\n",
       "      <td>298300.0</td>\n",
       "    </tr>\n",
       "    <tr>\n",
       "      <th>4</th>\n",
       "      <td>Albania</td>\n",
       "      <td>1985</td>\n",
       "      <td>female</td>\n",
       "      <td>55-74 years</td>\n",
       "      <td>NaN</td>\n",
       "      <td>138700.0</td>\n",
       "    </tr>\n",
       "    <tr>\n",
       "      <th>5</th>\n",
       "      <td>Albania</td>\n",
       "      <td>1985</td>\n",
       "      <td>female</td>\n",
       "      <td>75+ years</td>\n",
       "      <td>NaN</td>\n",
       "      <td>34200.0</td>\n",
       "    </tr>\n",
       "    <tr>\n",
       "      <th>6</th>\n",
       "      <td>Albania</td>\n",
       "      <td>1985</td>\n",
       "      <td>male</td>\n",
       "      <td>15-24 years</td>\n",
       "      <td>NaN</td>\n",
       "      <td>301400.0</td>\n",
       "    </tr>\n",
       "    <tr>\n",
       "      <th>7</th>\n",
       "      <td>Albania</td>\n",
       "      <td>1985</td>\n",
       "      <td>male</td>\n",
       "      <td>25-34 years</td>\n",
       "      <td>NaN</td>\n",
       "      <td>264200.0</td>\n",
       "    </tr>\n",
       "    <tr>\n",
       "      <th>8</th>\n",
       "      <td>Albania</td>\n",
       "      <td>1985</td>\n",
       "      <td>male</td>\n",
       "      <td>35-54 years</td>\n",
       "      <td>NaN</td>\n",
       "      <td>296700.0</td>\n",
       "    </tr>\n",
       "    <tr>\n",
       "      <th>9</th>\n",
       "      <td>Albania</td>\n",
       "      <td>1985</td>\n",
       "      <td>male</td>\n",
       "      <td>5-14 years</td>\n",
       "      <td>NaN</td>\n",
       "      <td>325800.0</td>\n",
       "    </tr>\n",
       "  </tbody>\n",
       "</table>\n",
       "</div>"
      ],
      "text/plain": [
       "   country  year     sex          age  suicides_no  population\n",
       "0  Albania  1985  female  15-24 years          NaN    277900.0\n",
       "1  Albania  1985  female  25-34 years          NaN    246800.0\n",
       "2  Albania  1985  female  35-54 years          NaN    267500.0\n",
       "3  Albania  1985  female   5-14 years          NaN    298300.0\n",
       "4  Albania  1985  female  55-74 years          NaN    138700.0\n",
       "5  Albania  1985  female    75+ years          NaN     34200.0\n",
       "6  Albania  1985    male  15-24 years          NaN    301400.0\n",
       "7  Albania  1985    male  25-34 years          NaN    264200.0\n",
       "8  Albania  1985    male  35-54 years          NaN    296700.0\n",
       "9  Albania  1985    male   5-14 years          NaN    325800.0"
      ]
     },
     "execution_count": 2,
     "metadata": {},
     "output_type": "execute_result"
    }
   ],
   "source": [
    "dataset=panda.read_csv(\"who_suicide.csv\")\n",
    "dataset.head(10)"
   ]
  },
  {
   "cell_type": "code",
   "execution_count": 3,
   "metadata": {},
   "outputs": [
    {
     "name": "stdout",
     "output_type": "stream",
     "text": [
      "country        0\n",
      "year           0\n",
      "sex            0\n",
      "age            0\n",
      "suicides_no    0\n",
      "population     0\n",
      "dtype: int64\n"
     ]
    }
   ],
   "source": [
    "#removing null value rows from dataset and again checking number of null rows in dataset\n",
    "dataset.dropna(inplace=True)\n",
    "print(dataset.isnull().sum())"
   ]
  },
  {
   "cell_type": "code",
   "execution_count": 4,
   "metadata": {},
   "outputs": [
    {
     "name": "stdout",
     "output_type": "stream",
     "text": [
      "<class 'pandas.core.frame.DataFrame'>\n",
      "Int64Index: 36060 entries, 24 to 43763\n",
      "Data columns (total 6 columns):\n",
      "country        36060 non-null object\n",
      "year           36060 non-null int64\n",
      "sex            36060 non-null object\n",
      "age            36060 non-null object\n",
      "suicides_no    36060 non-null float64\n",
      "population     36060 non-null float64\n",
      "dtypes: float64(2), int64(1), object(3)\n",
      "memory usage: 1.9+ MB\n"
     ]
    }
   ],
   "source": [
    "#printing information of dataset\n",
    "dataset.info()"
   ]
  },
  {
   "cell_type": "code",
   "execution_count": 5,
   "metadata": {},
   "outputs": [
    {
     "name": "stdout",
     "output_type": "stream",
     "text": [
      "['15-24 years' '25-34 years' '35-54 years' '5-14 years' '55-74 years'\n",
      " '75+ years']\n"
     ]
    }
   ],
   "source": [
    "#checking Age ranges\n",
    "print(dataset.age.unique())"
   ]
  },
  {
   "cell_type": "code",
   "execution_count": 6,
   "metadata": {},
   "outputs": [],
   "source": [
    "#Preprocessing, Converting AGE Groups into integer values and Gender ~ Female=0,Male=1 for model testing and predictions\n",
    "mydata=dataset\n",
    "mydata=mydata.drop(['country'],axis=1)#removed country column from 'mydata'\n",
    "#replacing age groups with integer values\n",
    "mydata['age']=mydata['age'].replace('5-14 years',0)\n",
    "mydata['age']=mydata['age'].replace('15-24 years',1)\n",
    "mydata['age']=mydata['age'].replace('25-34 years',2)\n",
    "mydata['age']=mydata['age'].replace('35-54 years',3)\n",
    "mydata['age']=mydata['age'].replace('55-74 years',4)\n",
    "mydata['age']=mydata['age'].replace('75+ years',5)\n",
    "mydata['sex']=mydata['sex'].replace('female',0)\n",
    "mydata['sex']=mydata['sex'].replace('male',1)\n",
    "\n",
    "#adding two more columns for model training and testing\n",
    "\n",
    "mydata['suicides/100k_population']=(mydata.suicides_no/mydata.population)/100000\n",
    "mydata['fatality_rate']=nump.where(mydata['suicides/100k_population']>mydata['suicides/100k_population'].mean(),0,1)"
   ]
  },
  {
   "cell_type": "code",
   "execution_count": 10,
   "metadata": {},
   "outputs": [
    {
     "name": "stdout",
     "output_type": "stream",
     "text": [
      "Naive Bayes accuracy is: 20.31%\n"
     ]
    }
   ],
   "source": [
    "#Dividing dataset into training and testing sets\n",
    "X = nump.array(mydata.drop(['sex', 'suicides_no'], 1))\n",
    "y=nump.array(mydata.age)\n",
    "X_train,X_test,y_train,y_test=train_test_split(X,y,test_size=0.25,random_state=42)\n",
    "\n",
    "from sklearn.naive_bayes import GaussianNB \n",
    "mod = GaussianNB() \n",
    "mod.fit(X_train, y_train) \n",
    "  \n",
    "\n",
    "y_pred = gnb.predict(X_test) \n",
    "  \n",
    "\n",
    "from sklearn import metrics \n",
    "print(\"Naive Bayes accuracy is: {:.2f}%\".format(accuracy_score(y_test,mod.predict(X_test))*100))"
   ]
  },
  {
   "cell_type": "code",
   "execution_count": 11,
   "metadata": {},
   "outputs": [
    {
     "ename": "NameError",
     "evalue": "name 'classification_report' is not defined",
     "output_type": "error",
     "traceback": [
      "\u001b[1;31m---------------------------------------------------------------------------\u001b[0m",
      "\u001b[1;31mNameError\u001b[0m                                 Traceback (most recent call last)",
      "\u001b[1;32m<ipython-input-11-ae43df6a8b60>\u001b[0m in \u001b[0;36m<module>\u001b[1;34m\u001b[0m\n\u001b[1;32m----> 1\u001b[1;33m \u001b[0mprint\u001b[0m\u001b[1;33m(\u001b[0m\u001b[0mclassification_report\u001b[0m\u001b[1;33m(\u001b[0m\u001b[0mmodel\u001b[0m\u001b[1;33m.\u001b[0m\u001b[0mpredict\u001b[0m\u001b[1;33m(\u001b[0m\u001b[0mX_test\u001b[0m\u001b[1;33m)\u001b[0m\u001b[1;33m,\u001b[0m\u001b[0my_test\u001b[0m\u001b[1;33m)\u001b[0m\u001b[1;33m)\u001b[0m\u001b[1;33m\u001b[0m\u001b[1;33m\u001b[0m\u001b[0m\n\u001b[0m",
      "\u001b[1;31mNameError\u001b[0m: name 'classification_report' is not defined"
     ]
    }
   ],
   "source": [
    "print(classification_report(model.predict(X_test),y_test))"
   ]
  },
  {
   "cell_type": "code",
   "execution_count": null,
   "metadata": {},
   "outputs": [],
   "source": []
  }
 ],
 "metadata": {
  "kernelspec": {
   "display_name": "Python 3",
   "language": "python",
   "name": "python3"
  },
  "language_info": {
   "codemirror_mode": {
    "name": "ipython",
    "version": 3
   },
   "file_extension": ".py",
   "mimetype": "text/x-python",
   "name": "python",
   "nbconvert_exporter": "python",
   "pygments_lexer": "ipython3",
   "version": "3.7.3"
  }
 },
 "nbformat": 4,
 "nbformat_minor": 2
}

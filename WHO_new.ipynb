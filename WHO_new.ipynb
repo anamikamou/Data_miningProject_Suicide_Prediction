{
 "cells": [
  {
   "cell_type": "code",
   "execution_count": 1,
   "metadata": {},
   "outputs": [],
   "source": [
    "#importing python modules/libraries\n",
    "import pandas as panda\n",
    "import numpy as nump\n",
    "from sklearn.metrics import accuracy_score\n",
    "from sklearn.model_selection import train_test_split"
   ]
  },
  {
   "cell_type": "code",
   "execution_count": 65,
   "metadata": {},
   "outputs": [
    {
     "data": {
      "text/html": [
       "<div>\n",
       "<style scoped>\n",
       "    .dataframe tbody tr th:only-of-type {\n",
       "        vertical-align: middle;\n",
       "    }\n",
       "\n",
       "    .dataframe tbody tr th {\n",
       "        vertical-align: top;\n",
       "    }\n",
       "\n",
       "    .dataframe thead th {\n",
       "        text-align: right;\n",
       "    }\n",
       "</style>\n",
       "<table border=\"1\" class=\"dataframe\">\n",
       "  <thead>\n",
       "    <tr style=\"text-align: right;\">\n",
       "      <th></th>\n",
       "      <th>country</th>\n",
       "      <th>year</th>\n",
       "      <th>sex</th>\n",
       "      <th>age</th>\n",
       "      <th>suicides_no</th>\n",
       "      <th>population</th>\n",
       "    </tr>\n",
       "  </thead>\n",
       "  <tbody>\n",
       "    <tr>\n",
       "      <th>0</th>\n",
       "      <td>Albania</td>\n",
       "      <td>1985</td>\n",
       "      <td>female</td>\n",
       "      <td>15-24 years</td>\n",
       "      <td>NaN</td>\n",
       "      <td>277900.0</td>\n",
       "    </tr>\n",
       "    <tr>\n",
       "      <th>1</th>\n",
       "      <td>Albania</td>\n",
       "      <td>1985</td>\n",
       "      <td>female</td>\n",
       "      <td>25-34 years</td>\n",
       "      <td>NaN</td>\n",
       "      <td>246800.0</td>\n",
       "    </tr>\n",
       "    <tr>\n",
       "      <th>2</th>\n",
       "      <td>Albania</td>\n",
       "      <td>1985</td>\n",
       "      <td>female</td>\n",
       "      <td>35-54 years</td>\n",
       "      <td>NaN</td>\n",
       "      <td>267500.0</td>\n",
       "    </tr>\n",
       "    <tr>\n",
       "      <th>3</th>\n",
       "      <td>Albania</td>\n",
       "      <td>1985</td>\n",
       "      <td>female</td>\n",
       "      <td>5-14 years</td>\n",
       "      <td>NaN</td>\n",
       "      <td>298300.0</td>\n",
       "    </tr>\n",
       "    <tr>\n",
       "      <th>4</th>\n",
       "      <td>Albania</td>\n",
       "      <td>1985</td>\n",
       "      <td>female</td>\n",
       "      <td>55-74 years</td>\n",
       "      <td>NaN</td>\n",
       "      <td>138700.0</td>\n",
       "    </tr>\n",
       "    <tr>\n",
       "      <th>5</th>\n",
       "      <td>Albania</td>\n",
       "      <td>1985</td>\n",
       "      <td>female</td>\n",
       "      <td>75+ years</td>\n",
       "      <td>NaN</td>\n",
       "      <td>34200.0</td>\n",
       "    </tr>\n",
       "    <tr>\n",
       "      <th>6</th>\n",
       "      <td>Albania</td>\n",
       "      <td>1985</td>\n",
       "      <td>male</td>\n",
       "      <td>15-24 years</td>\n",
       "      <td>NaN</td>\n",
       "      <td>301400.0</td>\n",
       "    </tr>\n",
       "    <tr>\n",
       "      <th>7</th>\n",
       "      <td>Albania</td>\n",
       "      <td>1985</td>\n",
       "      <td>male</td>\n",
       "      <td>25-34 years</td>\n",
       "      <td>NaN</td>\n",
       "      <td>264200.0</td>\n",
       "    </tr>\n",
       "    <tr>\n",
       "      <th>8</th>\n",
       "      <td>Albania</td>\n",
       "      <td>1985</td>\n",
       "      <td>male</td>\n",
       "      <td>35-54 years</td>\n",
       "      <td>NaN</td>\n",
       "      <td>296700.0</td>\n",
       "    </tr>\n",
       "    <tr>\n",
       "      <th>9</th>\n",
       "      <td>Albania</td>\n",
       "      <td>1985</td>\n",
       "      <td>male</td>\n",
       "      <td>5-14 years</td>\n",
       "      <td>NaN</td>\n",
       "      <td>325800.0</td>\n",
       "    </tr>\n",
       "  </tbody>\n",
       "</table>\n",
       "</div>"
      ],
      "text/plain": [
       "   country  year     sex          age  suicides_no  population\n",
       "0  Albania  1985  female  15-24 years          NaN    277900.0\n",
       "1  Albania  1985  female  25-34 years          NaN    246800.0\n",
       "2  Albania  1985  female  35-54 years          NaN    267500.0\n",
       "3  Albania  1985  female   5-14 years          NaN    298300.0\n",
       "4  Albania  1985  female  55-74 years          NaN    138700.0\n",
       "5  Albania  1985  female    75+ years          NaN     34200.0\n",
       "6  Albania  1985    male  15-24 years          NaN    301400.0\n",
       "7  Albania  1985    male  25-34 years          NaN    264200.0\n",
       "8  Albania  1985    male  35-54 years          NaN    296700.0\n",
       "9  Albania  1985    male   5-14 years          NaN    325800.0"
      ]
     },
     "execution_count": 65,
     "metadata": {},
     "output_type": "execute_result"
    }
   ],
   "source": [
    "dataset=panda.read_csv(\"who_suicide.csv\")\n",
    "dataset.head(10)"
   ]
  },
  {
   "cell_type": "code",
   "execution_count": 66,
   "metadata": {},
   "outputs": [
    {
     "name": "stdout",
     "output_type": "stream",
     "text": [
      "country           0\n",
      "year              0\n",
      "sex               0\n",
      "age               0\n",
      "suicides_no    2256\n",
      "population     5460\n",
      "dtype: int64\n"
     ]
    }
   ],
   "source": [
    "#finding total number of null values in attributes of dataset\n",
    "print(dataset.isnull().sum())"
   ]
  },
  {
   "cell_type": "code",
   "execution_count": 67,
   "metadata": {},
   "outputs": [
    {
     "name": "stdout",
     "output_type": "stream",
     "text": [
      "country        43776\n",
      "year           43776\n",
      "sex            43776\n",
      "age            43776\n",
      "suicides_no    41520\n",
      "population     38316\n",
      "dtype: int64\n"
     ]
    }
   ],
   "source": [
    "print(dataset.count())\n"
   ]
  },
  {
   "cell_type": "code",
   "execution_count": 68,
   "metadata": {},
   "outputs": [
    {
     "name": "stdout",
     "output_type": "stream",
     "text": [
      "country        0\n",
      "year           0\n",
      "sex            0\n",
      "age            0\n",
      "suicides_no    0\n",
      "population     0\n",
      "dtype: int64\n"
     ]
    }
   ],
   "source": [
    "#removing null value rows from dataset and again checking number of null rows in dataset\n",
    "dataset.dropna(inplace=True)\n",
    "print(dataset.isnull().sum())"
   ]
  },
  {
   "cell_type": "code",
   "execution_count": 69,
   "metadata": {},
   "outputs": [
    {
     "name": "stdout",
     "output_type": "stream",
     "text": [
      "    country  year     sex          age  suicides_no  population\n",
      "24  Albania  1987  female  15-24 years         14.0    289700.0\n",
      "25  Albania  1987  female  25-34 years          4.0    257200.0\n",
      "26  Albania  1987  female  35-54 years          6.0    278800.0\n",
      "27  Albania  1987  female   5-14 years          0.0    311000.0\n",
      "28  Albania  1987  female  55-74 years          0.0    144600.0\n",
      "29  Albania  1987  female    75+ years          1.0     35600.0\n",
      "30  Albania  1987    male  15-24 years         21.0    312900.0\n",
      "31  Albania  1987    male  25-34 years          9.0    274300.0\n",
      "32  Albania  1987    male  35-54 years         16.0    308000.0\n",
      "33  Albania  1987    male   5-14 years          0.0    338200.0\n",
      "country        36060\n",
      "year           36060\n",
      "sex            36060\n",
      "age            36060\n",
      "suicides_no    36060\n",
      "population     36060\n",
      "dtype: int64\n"
     ]
    }
   ],
   "source": [
    "print(dataset.head(10))\n",
    "print(dataset.count())"
   ]
  },
  {
   "cell_type": "code",
   "execution_count": 70,
   "metadata": {},
   "outputs": [
    {
     "name": "stdout",
     "output_type": "stream",
     "text": [
      "<class 'pandas.core.frame.DataFrame'>\n",
      "Int64Index: 36060 entries, 24 to 43763\n",
      "Data columns (total 6 columns):\n",
      "country        36060 non-null object\n",
      "year           36060 non-null int64\n",
      "sex            36060 non-null object\n",
      "age            36060 non-null object\n",
      "suicides_no    36060 non-null float64\n",
      "population     36060 non-null float64\n",
      "dtypes: float64(2), int64(1), object(3)\n",
      "memory usage: 1.9+ MB\n"
     ]
    }
   ],
   "source": [
    "#printing information of dataset\n",
    "dataset.info()"
   ]
  },
  {
   "cell_type": "code",
   "execution_count": 71,
   "metadata": {},
   "outputs": [
    {
     "name": "stdout",
     "output_type": "stream",
     "text": [
      "['15-24 years' '25-34 years' '35-54 years' '5-14 years' '55-74 years'\n",
      " '75+ years']\n"
     ]
    }
   ],
   "source": [
    "#checking Age ranges\n",
    "print(dataset.age.unique())"
   ]
  },
  {
   "cell_type": "code",
   "execution_count": 72,
   "metadata": {},
   "outputs": [
    {
     "data": {
      "text/html": [
       "<div>\n",
       "<style scoped>\n",
       "    .dataframe tbody tr th:only-of-type {\n",
       "        vertical-align: middle;\n",
       "    }\n",
       "\n",
       "    .dataframe tbody tr th {\n",
       "        vertical-align: top;\n",
       "    }\n",
       "\n",
       "    .dataframe thead th {\n",
       "        text-align: right;\n",
       "    }\n",
       "</style>\n",
       "<table border=\"1\" class=\"dataframe\">\n",
       "  <thead>\n",
       "    <tr style=\"text-align: right;\">\n",
       "      <th></th>\n",
       "      <th>year</th>\n",
       "      <th>suicides_no</th>\n",
       "      <th>population</th>\n",
       "    </tr>\n",
       "  </thead>\n",
       "  <tbody>\n",
       "    <tr>\n",
       "      <th>count</th>\n",
       "      <td>36060.000000</td>\n",
       "      <td>36060.000000</td>\n",
       "      <td>3.606000e+04</td>\n",
       "    </tr>\n",
       "    <tr>\n",
       "      <th>mean</th>\n",
       "      <td>1998.935441</td>\n",
       "      <td>221.809956</td>\n",
       "      <td>1.699996e+06</td>\n",
       "    </tr>\n",
       "    <tr>\n",
       "      <th>std</th>\n",
       "      <td>10.163883</td>\n",
       "      <td>855.449442</td>\n",
       "      <td>3.697811e+06</td>\n",
       "    </tr>\n",
       "    <tr>\n",
       "      <th>min</th>\n",
       "      <td>1979.000000</td>\n",
       "      <td>0.000000</td>\n",
       "      <td>2.590000e+02</td>\n",
       "    </tr>\n",
       "    <tr>\n",
       "      <th>25%</th>\n",
       "      <td>1991.000000</td>\n",
       "      <td>2.000000</td>\n",
       "      <td>8.056600e+04</td>\n",
       "    </tr>\n",
       "    <tr>\n",
       "      <th>50%</th>\n",
       "      <td>2000.000000</td>\n",
       "      <td>21.000000</td>\n",
       "      <td>3.757650e+05</td>\n",
       "    </tr>\n",
       "    <tr>\n",
       "      <th>75%</th>\n",
       "      <td>2008.000000</td>\n",
       "      <td>116.000000</td>\n",
       "      <td>1.344900e+06</td>\n",
       "    </tr>\n",
       "    <tr>\n",
       "      <th>max</th>\n",
       "      <td>2016.000000</td>\n",
       "      <td>22338.000000</td>\n",
       "      <td>4.380521e+07</td>\n",
       "    </tr>\n",
       "  </tbody>\n",
       "</table>\n",
       "</div>"
      ],
      "text/plain": [
       "               year   suicides_no    population\n",
       "count  36060.000000  36060.000000  3.606000e+04\n",
       "mean    1998.935441    221.809956  1.699996e+06\n",
       "std       10.163883    855.449442  3.697811e+06\n",
       "min     1979.000000      0.000000  2.590000e+02\n",
       "25%     1991.000000      2.000000  8.056600e+04\n",
       "50%     2000.000000     21.000000  3.757650e+05\n",
       "75%     2008.000000    116.000000  1.344900e+06\n",
       "max     2016.000000  22338.000000  4.380521e+07"
      ]
     },
     "execution_count": 72,
     "metadata": {},
     "output_type": "execute_result"
    }
   ],
   "source": [
    "dataset.describe()"
   ]
  },
  {
   "cell_type": "code",
   "execution_count": 76,
   "metadata": {},
   "outputs": [],
   "source": [
    "#Preprocessing, Converting AGE Groups into integer values and Gender ~ Female=0,Male=1 for model testing and predictions\n",
    "mydata=dataset\n",
    "mydata=mydata.drop(['country'],axis=1)#removed country column from 'mydata'\n",
    "#replacing age groups with integer values\n",
    "mydata['age']=mydata['age'].replace('5-14 years',0)\n",
    "mydata['age']=mydata['age'].replace('15-24 years',1)\n",
    "mydata['age']=mydata['age'].replace('25-34 years',2)\n",
    "mydata['age']=mydata['age'].replace('35-54 years',3)\n",
    "mydata['age']=mydata['age'].replace('55-74 years',4)\n",
    "mydata['age']=mydata['age'].replace('75+ years',5)\n",
    "mydata['sex']=mydata['sex'].replace('female',0)\n",
    "mydata['sex']=mydata['sex'].replace('male',1)\n",
    "\n",
    "#adding two more columns for model training and testing\n",
    "\n",
    "mydata['suicides/100k_population']=(mydata.suicides_no/mydata.population)/100000\n",
    "mydata['fatality_rate']=nump.where(mydata['suicides/100k_population']>mydata['suicides/100k_population'].mean(),0,1)"
   ]
  },
  {
   "cell_type": "code",
   "execution_count": 86,
   "metadata": {},
   "outputs": [
    {
     "name": "stdout",
     "output_type": "stream",
     "text": [
      "Shape of x_train:  (27045, 5)\n",
      "Shape of y_train:  (27045,)\n",
      "Shape of x_test:  (9015, 5)\n",
      "Shape of y_test:  (9015,)\n"
     ]
    }
   ],
   "source": [
    "#Dividing dataset into training and testing sets\n",
    "X = nump.array(mydata.drop(['sex', 'suicides_no'], 1))\n",
    "y=nump.array(mydata.age)\n",
    "X_train,X_test,y_train,y_test=train_test_split(X,y,test_size=0.25,random_state=42)\n",
    "\n",
    "from sklearn import utils\n",
    "from sklearn import preprocessing\n",
    "from sklearn import metrics\n",
    "#Encoing labels for continous and multi class output\n",
    "label_enc=preprocessing.LabelEncoder()\n",
    "trs=label_enc.fit_transform(y_train)\n",
    "\n",
    "\n",
    "print(\"Shape of x_train: \",X_train.shape)\n",
    "print(\"Shape of y_train: \",y_train.shape)\n",
    "print(\"Shape of x_test: \",X_test.shape)\n",
    "print(\"Shape of y_test: \",y_test.shape)"
   ]
  },
  {
   "cell_type": "code",
   "execution_count": 98,
   "metadata": {},
   "outputs": [
    {
     "name": "stdout",
     "output_type": "stream",
     "text": [
      "Random Forest accuracy is: 100.00%\n"
     ]
    }
   ],
   "source": [
    "#checking RandomForestClassifier Model and accuracy\n",
    "from sklearn.ensemble import RandomForestClassifier\n",
    "mod=RandomForestClassifier(n_estimators=100,random_state=42)\n",
    "mod.fit(X_train,trs)\n",
    "mod.predict(X_test)\n",
    "print(\"Random Forest accuracy is: {:.2f}%\".format(accuracy_score(y_test,mod.predict(X_test))*100))"
   ]
  },
  {
   "cell_type": "code",
   "execution_count": 100,
   "metadata": {},
   "outputs": [
    {
     "name": "stdout",
     "output_type": "stream",
     "text": [
      "Decision Tree accuracy is : 100.00%\n"
     ]
    }
   ],
   "source": [
    "#Checking DecisionTreeClassifier Model and its accuracy\n",
    "from sklearn.tree import DecisionTreeClassifier\n",
    "model=DecisionTreeClassifier()\n",
    "model.fit(X_train,trs)\n",
    "model.predict(X_test)\n",
    "\n",
    "print(\"Decision Tree accuracy is : {:.2f}%\".format(accuracy_score(y_test,model.predict(X_test))*100))"
   ]
  },
  {
   "cell_type": "code",
   "execution_count": 102,
   "metadata": {},
   "outputs": [
    {
     "name": "stdout",
     "output_type": "stream",
     "text": [
      "KNN Accuracy : 22.85%\n"
     ]
    }
   ],
   "source": [
    "#Import knearest neighbors Classifier model\n",
    "from sklearn.neighbors import KNeighborsClassifier\n",
    "\n",
    "\n",
    "model1=KNeighborsClassifier(n_neighbors=2)\n",
    "model1.fit(X_train,trs)\n",
    "model1.predict(X_test)\n",
    "\n",
    "print(\"KNN Accuracy : {:.2f}%\".format(accuracy_score(y_test,model1.predict(X_test))*100))"
   ]
  },
  {
   "cell_type": "code",
   "execution_count": 90,
   "metadata": {},
   "outputs": [
    {
     "name": "stdout",
     "output_type": "stream",
     "text": [
      "              precision    recall  f1-score   support\n",
      "\n",
      "           0       0.36      0.20      0.26      2709\n",
      "           1       0.29      0.20      0.24      2156\n",
      "           2       0.24      0.21      0.22      1697\n",
      "           3       0.19      0.24      0.21      1236\n",
      "           4       0.14      0.26      0.18       791\n",
      "           5       0.15      0.50      0.23       426\n",
      "\n",
      "    accuracy                           0.23      9015\n",
      "   macro avg       0.23      0.27      0.22      9015\n",
      "weighted avg       0.27      0.23      0.23      9015\n",
      "\n"
     ]
    }
   ],
   "source": [
    "from sklearn.metrics import classification_report\n",
    "\n",
    "#classification report KNNClassifier\n",
    "\n",
    "print(classification_report(model1.predict(X_test),y_test))"
   ]
  },
  {
   "cell_type": "code",
   "execution_count": 91,
   "metadata": {},
   "outputs": [
    {
     "name": "stdout",
     "output_type": "stream",
     "text": [
      "              precision    recall  f1-score   support\n",
      "\n",
      "           0       1.00      1.00      1.00      1513\n",
      "           1       1.00      1.00      1.00      1489\n",
      "           2       1.00      1.00      1.00      1505\n",
      "           3       1.00      1.00      1.00      1567\n",
      "           4       1.00      1.00      1.00      1485\n",
      "           5       1.00      1.00      1.00      1456\n",
      "\n",
      "    accuracy                           1.00      9015\n",
      "   macro avg       1.00      1.00      1.00      9015\n",
      "weighted avg       1.00      1.00      1.00      9015\n",
      "\n"
     ]
    }
   ],
   "source": [
    "from sklearn.metrics import classification_report\n",
    "\n",
    "#classification report DecisionTreeClassifier\n",
    "\n",
    "print(classification_report(mod.predict(X_test),y_test))"
   ]
  },
  {
   "cell_type": "code",
   "execution_count": 92,
   "metadata": {},
   "outputs": [
    {
     "name": "stdout",
     "output_type": "stream",
     "text": [
      "              precision    recall  f1-score   support\n",
      "\n",
      "           0       1.00      1.00      1.00      1513\n",
      "           1       1.00      1.00      1.00      1489\n",
      "           2       1.00      1.00      1.00      1505\n",
      "           3       1.00      1.00      1.00      1567\n",
      "           4       1.00      1.00      1.00      1485\n",
      "           5       1.00      1.00      1.00      1456\n",
      "\n",
      "    accuracy                           1.00      9015\n",
      "   macro avg       1.00      1.00      1.00      9015\n",
      "weighted avg       1.00      1.00      1.00      9015\n",
      "\n"
     ]
    }
   ],
   "source": [
    "#classification report RandomForest\n",
    "\n",
    "print(classification_report(model.predict(X_test),y_test))"
   ]
  },
  {
   "cell_type": "code",
   "execution_count": null,
   "metadata": {},
   "outputs": [],
   "source": []
  },
  {
   "cell_type": "code",
   "execution_count": null,
   "metadata": {},
   "outputs": [],
   "source": []
  }
 ],
 "metadata": {
  "kernelspec": {
   "display_name": "Python 3",
   "language": "python",
   "name": "python3"
  },
  "language_info": {
   "codemirror_mode": {
    "name": "ipython",
    "version": 3
   },
   "file_extension": ".py",
   "mimetype": "text/x-python",
   "name": "python",
   "nbconvert_exporter": "python",
   "pygments_lexer": "ipython3",
   "version": "3.7.3"
  }
 },
 "nbformat": 4,
 "nbformat_minor": 2
}
